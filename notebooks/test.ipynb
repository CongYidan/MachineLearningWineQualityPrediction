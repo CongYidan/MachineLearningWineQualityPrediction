{
 "cells": [
  {
   "cell_type": "code",
   "execution_count": 4,
   "id": "initial_id",
   "metadata": {
    "ExecuteTime": {
     "end_time": "2024-03-23T23:36:29.460819Z",
     "start_time": "2024-03-23T23:36:29.443754Z"
    }
   },
   "outputs": [
    {
     "data": {
      "text/plain": "        Id  fixed acidity  volatile acidity  citric acid  residual sugar  \\\n0        0            8.0              0.50         0.39            2.20   \n1        1            9.3              0.30         0.73            2.30   \n2        2            7.1              0.51         0.03            2.10   \n3        3            8.1              0.87         0.22            2.60   \n4        4            8.5              0.36         0.30            2.30   \n...    ...            ...               ...          ...             ...   \n2051  2051            6.6              0.31         0.13            2.00   \n2052  2052            9.7              0.59         0.21            1.80   \n2053  2053            7.7              0.43         0.42            1.70   \n2054  2054            9.1              0.50         0.00            1.75   \n2055  2055            6.2              0.31         0.18            2.30   \n\n      chlorides  free sulfur dioxide  total sulfur dioxide  density    pH  \\\n0         0.073                 30.0                  39.0  0.99572  3.33   \n1         0.092                 30.0                  67.0  0.99854  3.32   \n2         0.059                  3.0                  12.0  0.99660  3.52   \n3         0.084                 11.0                  65.0  0.99730  3.20   \n4         0.079                 10.0                  45.0  0.99444  3.20   \n...         ...                  ...                   ...      ...   ...   \n2051      0.056                 29.0                  42.0  0.99388  3.52   \n2052      0.079                 27.0                  65.0  0.99745  3.14   \n2053      0.071                 19.0                  37.0  0.99258  3.32   \n2054      0.058                  5.0                  13.0  0.99670  3.22   \n2055      0.059                 12.0                  28.0  0.99520  3.56   \n\n      sulphates  alcohol  quality  \n0          0.77     12.1        6  \n1          0.67     12.8        6  \n2          0.73     11.3        7  \n3          0.53      9.8        5  \n4          1.36      9.5        6  \n...         ...      ...      ...  \n2051       0.87     12.0        7  \n2052       0.58      9.4        5  \n2053       0.77     12.5        8  \n2054       0.42      9.5        5  \n2055       0.88     11.4        7  \n\n[2056 rows x 13 columns]",
      "text/html": "<div>\n<style scoped>\n    .dataframe tbody tr th:only-of-type {\n        vertical-align: middle;\n    }\n\n    .dataframe tbody tr th {\n        vertical-align: top;\n    }\n\n    .dataframe thead th {\n        text-align: right;\n    }\n</style>\n<table border=\"1\" class=\"dataframe\">\n  <thead>\n    <tr style=\"text-align: right;\">\n      <th></th>\n      <th>Id</th>\n      <th>fixed acidity</th>\n      <th>volatile acidity</th>\n      <th>citric acid</th>\n      <th>residual sugar</th>\n      <th>chlorides</th>\n      <th>free sulfur dioxide</th>\n      <th>total sulfur dioxide</th>\n      <th>density</th>\n      <th>pH</th>\n      <th>sulphates</th>\n      <th>alcohol</th>\n      <th>quality</th>\n    </tr>\n  </thead>\n  <tbody>\n    <tr>\n      <th>0</th>\n      <td>0</td>\n      <td>8.0</td>\n      <td>0.50</td>\n      <td>0.39</td>\n      <td>2.20</td>\n      <td>0.073</td>\n      <td>30.0</td>\n      <td>39.0</td>\n      <td>0.99572</td>\n      <td>3.33</td>\n      <td>0.77</td>\n      <td>12.1</td>\n      <td>6</td>\n    </tr>\n    <tr>\n      <th>1</th>\n      <td>1</td>\n      <td>9.3</td>\n      <td>0.30</td>\n      <td>0.73</td>\n      <td>2.30</td>\n      <td>0.092</td>\n      <td>30.0</td>\n      <td>67.0</td>\n      <td>0.99854</td>\n      <td>3.32</td>\n      <td>0.67</td>\n      <td>12.8</td>\n      <td>6</td>\n    </tr>\n    <tr>\n      <th>2</th>\n      <td>2</td>\n      <td>7.1</td>\n      <td>0.51</td>\n      <td>0.03</td>\n      <td>2.10</td>\n      <td>0.059</td>\n      <td>3.0</td>\n      <td>12.0</td>\n      <td>0.99660</td>\n      <td>3.52</td>\n      <td>0.73</td>\n      <td>11.3</td>\n      <td>7</td>\n    </tr>\n    <tr>\n      <th>3</th>\n      <td>3</td>\n      <td>8.1</td>\n      <td>0.87</td>\n      <td>0.22</td>\n      <td>2.60</td>\n      <td>0.084</td>\n      <td>11.0</td>\n      <td>65.0</td>\n      <td>0.99730</td>\n      <td>3.20</td>\n      <td>0.53</td>\n      <td>9.8</td>\n      <td>5</td>\n    </tr>\n    <tr>\n      <th>4</th>\n      <td>4</td>\n      <td>8.5</td>\n      <td>0.36</td>\n      <td>0.30</td>\n      <td>2.30</td>\n      <td>0.079</td>\n      <td>10.0</td>\n      <td>45.0</td>\n      <td>0.99444</td>\n      <td>3.20</td>\n      <td>1.36</td>\n      <td>9.5</td>\n      <td>6</td>\n    </tr>\n    <tr>\n      <th>...</th>\n      <td>...</td>\n      <td>...</td>\n      <td>...</td>\n      <td>...</td>\n      <td>...</td>\n      <td>...</td>\n      <td>...</td>\n      <td>...</td>\n      <td>...</td>\n      <td>...</td>\n      <td>...</td>\n      <td>...</td>\n      <td>...</td>\n    </tr>\n    <tr>\n      <th>2051</th>\n      <td>2051</td>\n      <td>6.6</td>\n      <td>0.31</td>\n      <td>0.13</td>\n      <td>2.00</td>\n      <td>0.056</td>\n      <td>29.0</td>\n      <td>42.0</td>\n      <td>0.99388</td>\n      <td>3.52</td>\n      <td>0.87</td>\n      <td>12.0</td>\n      <td>7</td>\n    </tr>\n    <tr>\n      <th>2052</th>\n      <td>2052</td>\n      <td>9.7</td>\n      <td>0.59</td>\n      <td>0.21</td>\n      <td>1.80</td>\n      <td>0.079</td>\n      <td>27.0</td>\n      <td>65.0</td>\n      <td>0.99745</td>\n      <td>3.14</td>\n      <td>0.58</td>\n      <td>9.4</td>\n      <td>5</td>\n    </tr>\n    <tr>\n      <th>2053</th>\n      <td>2053</td>\n      <td>7.7</td>\n      <td>0.43</td>\n      <td>0.42</td>\n      <td>1.70</td>\n      <td>0.071</td>\n      <td>19.0</td>\n      <td>37.0</td>\n      <td>0.99258</td>\n      <td>3.32</td>\n      <td>0.77</td>\n      <td>12.5</td>\n      <td>8</td>\n    </tr>\n    <tr>\n      <th>2054</th>\n      <td>2054</td>\n      <td>9.1</td>\n      <td>0.50</td>\n      <td>0.00</td>\n      <td>1.75</td>\n      <td>0.058</td>\n      <td>5.0</td>\n      <td>13.0</td>\n      <td>0.99670</td>\n      <td>3.22</td>\n      <td>0.42</td>\n      <td>9.5</td>\n      <td>5</td>\n    </tr>\n    <tr>\n      <th>2055</th>\n      <td>2055</td>\n      <td>6.2</td>\n      <td>0.31</td>\n      <td>0.18</td>\n      <td>2.30</td>\n      <td>0.059</td>\n      <td>12.0</td>\n      <td>28.0</td>\n      <td>0.99520</td>\n      <td>3.56</td>\n      <td>0.88</td>\n      <td>11.4</td>\n      <td>7</td>\n    </tr>\n  </tbody>\n</table>\n<p>2056 rows × 13 columns</p>\n</div>"
     },
     "execution_count": 4,
     "metadata": {},
     "output_type": "execute_result"
    }
   ],
   "source": [
    "from src.data.make_dataset import load_data\n",
    "\n",
    "import warnings\n",
    "warnings.filterwarnings('ignore')\n",
    "\n",
    "train = load_data(\"../data/raw/train.csv\")\n",
    "\n",
    "train"
   ]
  }
 ],
 "metadata": {
  "kernelspec": {
   "display_name": "Python 3 (ipykernel)",
   "language": "python",
   "name": "python3"
  },
  "language_info": {
   "codemirror_mode": {
    "name": "ipython",
    "version": 3
   },
   "file_extension": ".py",
   "mimetype": "text/x-python",
   "name": "python",
   "nbconvert_exporter": "python",
   "pygments_lexer": "ipython3",
   "version": "3.8.15"
  }
 },
 "nbformat": 4,
 "nbformat_minor": 5
}
